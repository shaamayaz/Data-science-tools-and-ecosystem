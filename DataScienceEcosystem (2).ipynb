{
 "cells": [
  {
   "cell_type": "markdown",
   "id": "d5b27f3f-2bd3-43bc-bf74-5938b927229d",
   "metadata": {},
   "source": [
    "# Data Science Tools and Ecosystem"
   ]
  },
  {
   "cell_type": "markdown",
   "id": "a6df8432-6213-4ac4-8536-cd1e56e6ef43",
   "metadata": {},
   "source": [
    "In this notebook, Data Science Tools and Ecosystem are summarized."
   ]
  },
  {
   "cell_type": "markdown",
   "id": "173b23d9-cabb-419d-b3f0-d1009f047e0c",
   "metadata": {},
   "source": [
    "**Objectives:**\n",
    "* Data science Tool    \n",
    "* Some of the popular languages that Data Scientists use\n",
    "* Commonly used libraries used by Data Scientists\n",
    "* Evaluating arithmetic expressions in Python"
   ]
  },
  {
   "cell_type": "markdown",
   "id": "af21a94c-8f4f-4dbe-9c05-bfafd83ecf4f",
   "metadata": {},
   "source": [
    "Some of the popular languages that Data Scientists use are:\n",
    "1. Python\n",
    "2. Scala\n",
    "3. R\n",
    "4. Julia"
   ]
  },
  {
   "cell_type": "markdown",
   "id": "4132ba2f-73f2-486c-b3d1-fb76f2062bc9",
   "metadata": {},
   "source": [
    "Some of the commonly used libraries used by Data Scientists include:\n",
    "1. Tensorflow\n",
    "2. Matplotlib\n",
    "3. Numpy\n",
    "4. Scipy"
   ]
  },
  {
   "cell_type": "markdown",
   "id": "12a02e82-b2c3-42da-a2fe-6419700339ca",
   "metadata": {},
   "source": [
    "| Data Science Tools | \n",
    "|--------------------|\n",
    "|Jupyter notebook |\n",
    "| Rstudio |\n",
    "| spyder |"
   ]
  },
  {
   "cell_type": "markdown",
   "id": "721758a1-2544-4581-af5f-ff484ff3da63",
   "metadata": {},
   "source": [
    "### Below are a few examples of evaluating arithmetic expressions in Python"
   ]
  },
  {
   "cell_type": "code",
   "execution_count": 11,
   "id": "cc258911-37e1-4a84-a6a2-929b4caef732",
   "metadata": {},
   "outputs": [
    {
     "name": "stdout",
     "output_type": "stream",
     "text": [
      "17\n"
     ]
    }
   ],
   "source": [
    "#This a simple arithmetic expression to mutiply then add integers#\n",
    "print  (3*4+5) "
   ]
  },
  {
   "cell_type": "code",
   "execution_count": 13,
   "id": "cba64379-7e4a-4761-9ded-398c92f63a2b",
   "metadata": {},
   "outputs": [
    {
     "data": {
      "text/plain": [
       "3.3333333333333335"
      ]
     },
     "execution_count": 13,
     "metadata": {},
     "output_type": "execute_result"
    }
   ],
   "source": [
    "#This will convert 200 minutes to hours by diving by 60#\n",
    "200/60"
   ]
  },
  {
   "cell_type": "markdown",
   "id": "22f38733-19fa-47a7-93c4-2bd33dd11420",
   "metadata": {},
   "source": [
    "## Author \n",
    "Ahtusham mahmood"
   ]
  }
 ],
 "metadata": {
  "kernelspec": {
   "display_name": "Python 3 (ipykernel)",
   "language": "python",
   "name": "python3"
  },
  "language_info": {
   "codemirror_mode": {
    "name": "ipython",
    "version": 3
   },
   "file_extension": ".py",
   "mimetype": "text/x-python",
   "name": "python",
   "nbconvert_exporter": "python",
   "pygments_lexer": "ipython3",
   "version": "3.12.4"
  }
 },
 "nbformat": 4,
 "nbformat_minor": 5
}
